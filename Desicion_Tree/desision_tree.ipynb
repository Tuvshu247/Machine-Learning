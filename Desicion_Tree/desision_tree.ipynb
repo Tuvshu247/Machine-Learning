{
  "cells": [
    {
      "cell_type": "markdown",
      "metadata": {
        "id": "rTEmB_69WesI"
      },
      "source": [
        "### **Decision Tree Classification in Loan Data**"
      ]
    },
    {
      "cell_type": "code",
      "execution_count": 27,
      "metadata": {},
      "outputs": [
        {
          "name": "stdout",
          "output_type": "stream",
          "text": [
            "Defaulting to user installation because normal site-packages is not writeable\n",
            "Requirement already satisfied: pandas in /home/tuvshu247/.local/lib/python3.10/site-packages (2.2.2)\n",
            "Requirement already satisfied: python-dateutil>=2.8.2 in /home/tuvshu247/.local/lib/python3.10/site-packages (from pandas) (2.9.0.post0)\n",
            "Requirement already satisfied: pytz>=2020.1 in /usr/lib/python3/dist-packages (from pandas) (2022.1)\n",
            "Requirement already satisfied: numpy>=1.22.4 in /home/tuvshu247/.local/lib/python3.10/site-packages (from pandas) (1.26.4)\n",
            "Requirement already satisfied: tzdata>=2022.7 in /home/tuvshu247/.local/lib/python3.10/site-packages (from pandas) (2024.1)\n",
            "Requirement already satisfied: six>=1.5 in /usr/lib/python3/dist-packages (from python-dateutil>=2.8.2->pandas) (1.16.0)\n",
            "Defaulting to user installation because normal site-packages is not writeable\n",
            "Requirement already satisfied: matplotlib in /home/tuvshu247/.local/lib/python3.10/site-packages (3.9.0)\n",
            "Requirement already satisfied: fonttools>=4.22.0 in /home/tuvshu247/.local/lib/python3.10/site-packages (from matplotlib) (4.53.0)\n",
            "Requirement already satisfied: pillow>=8 in /usr/lib/python3/dist-packages (from matplotlib) (9.0.1)\n",
            "Requirement already satisfied: numpy>=1.23 in /home/tuvshu247/.local/lib/python3.10/site-packages (from matplotlib) (1.26.4)\n",
            "Requirement already satisfied: kiwisolver>=1.3.1 in /home/tuvshu247/.local/lib/python3.10/site-packages (from matplotlib) (1.4.5)\n",
            "Requirement already satisfied: contourpy>=1.0.1 in /home/tuvshu247/.local/lib/python3.10/site-packages (from matplotlib) (1.2.1)\n",
            "Requirement already satisfied: packaging>=20.0 in /home/tuvshu247/.local/lib/python3.10/site-packages (from matplotlib) (24.0)\n",
            "Requirement already satisfied: python-dateutil>=2.7 in /home/tuvshu247/.local/lib/python3.10/site-packages (from matplotlib) (2.9.0.post0)\n",
            "Requirement already satisfied: pyparsing>=2.3.1 in /usr/lib/python3/dist-packages (from matplotlib) (2.4.7)\n",
            "Requirement already satisfied: cycler>=0.10 in /home/tuvshu247/.local/lib/python3.10/site-packages (from matplotlib) (0.12.1)\n",
            "Requirement already satisfied: six>=1.5 in /usr/lib/python3/dist-packages (from python-dateutil>=2.7->matplotlib) (1.16.0)\n",
            "Defaulting to user installation because normal site-packages is not writeable\n",
            "Requirement already satisfied: seaborn in /home/tuvshu247/.local/lib/python3.10/site-packages (0.13.2)\n",
            "Requirement already satisfied: matplotlib!=3.6.1,>=3.4 in /home/tuvshu247/.local/lib/python3.10/site-packages (from seaborn) (3.9.0)\n",
            "Requirement already satisfied: numpy!=1.24.0,>=1.20 in /home/tuvshu247/.local/lib/python3.10/site-packages (from seaborn) (1.26.4)\n",
            "Requirement already satisfied: pandas>=1.2 in /home/tuvshu247/.local/lib/python3.10/site-packages (from seaborn) (2.2.2)\n",
            "Requirement already satisfied: pillow>=8 in /usr/lib/python3/dist-packages (from matplotlib!=3.6.1,>=3.4->seaborn) (9.0.1)\n",
            "Requirement already satisfied: pyparsing>=2.3.1 in /usr/lib/python3/dist-packages (from matplotlib!=3.6.1,>=3.4->seaborn) (2.4.7)\n",
            "Requirement already satisfied: python-dateutil>=2.7 in /home/tuvshu247/.local/lib/python3.10/site-packages (from matplotlib!=3.6.1,>=3.4->seaborn) (2.9.0.post0)\n",
            "Requirement already satisfied: cycler>=0.10 in /home/tuvshu247/.local/lib/python3.10/site-packages (from matplotlib!=3.6.1,>=3.4->seaborn) (0.12.1)\n",
            "Requirement already satisfied: fonttools>=4.22.0 in /home/tuvshu247/.local/lib/python3.10/site-packages (from matplotlib!=3.6.1,>=3.4->seaborn) (4.53.0)\n",
            "Requirement already satisfied: packaging>=20.0 in /home/tuvshu247/.local/lib/python3.10/site-packages (from matplotlib!=3.6.1,>=3.4->seaborn) (24.0)\n",
            "Requirement already satisfied: kiwisolver>=1.3.1 in /home/tuvshu247/.local/lib/python3.10/site-packages (from matplotlib!=3.6.1,>=3.4->seaborn) (1.4.5)\n",
            "Requirement already satisfied: contourpy>=1.0.1 in /home/tuvshu247/.local/lib/python3.10/site-packages (from matplotlib!=3.6.1,>=3.4->seaborn) (1.2.1)\n",
            "Requirement already satisfied: pytz>=2020.1 in /usr/lib/python3/dist-packages (from pandas>=1.2->seaborn) (2022.1)\n",
            "Requirement already satisfied: tzdata>=2022.7 in /home/tuvshu247/.local/lib/python3.10/site-packages (from pandas>=1.2->seaborn) (2024.1)\n",
            "Requirement already satisfied: six>=1.5 in /usr/lib/python3/dist-packages (from python-dateutil>=2.7->matplotlib!=3.6.1,>=3.4->seaborn) (1.16.0)\n",
            "Defaulting to user installation because normal site-packages is not writeable\n",
            "Requirement already satisfied: numpy in /home/tuvshu247/.local/lib/python3.10/site-packages (1.26.4)\n"
          ]
        }
      ],
      "source": [
        "!pip install pandas\n",
        "!pip install matplotlib\n",
        "!pip install seaborn\n",
        "!pip install numpy"
      ]
    },
    {
      "cell_type": "code",
      "execution_count": 28,
      "metadata": {
        "colab": {
          "base_uri": "https://localhost:8080/",
          "height": 206
        },
        "id": "pKlSNcsNV3BG",
        "outputId": "e45e44f8-4c5f-4d91-9a9f-27fd89e635bd"
      },
      "outputs": [
        {
          "data": {
            "text/html": [
              "<div>\n",
              "<style scoped>\n",
              "    .dataframe tbody tr th:only-of-type {\n",
              "        vertical-align: middle;\n",
              "    }\n",
              "\n",
              "    .dataframe tbody tr th {\n",
              "        vertical-align: top;\n",
              "    }\n",
              "\n",
              "    .dataframe thead th {\n",
              "        text-align: right;\n",
              "    }\n",
              "</style>\n",
              "<table border=\"1\" class=\"dataframe\">\n",
              "  <thead>\n",
              "    <tr style=\"text-align: right;\">\n",
              "      <th></th>\n",
              "      <th>age</th>\n",
              "      <th>gender</th>\n",
              "      <th>occupation</th>\n",
              "      <th>education_level</th>\n",
              "      <th>marital_status</th>\n",
              "      <th>income</th>\n",
              "      <th>credit_score</th>\n",
              "      <th>loan_status</th>\n",
              "    </tr>\n",
              "  </thead>\n",
              "  <tbody>\n",
              "    <tr>\n",
              "      <th>0</th>\n",
              "      <td>32</td>\n",
              "      <td>Male</td>\n",
              "      <td>Engineer</td>\n",
              "      <td>Bachelor's</td>\n",
              "      <td>Married</td>\n",
              "      <td>85000</td>\n",
              "      <td>720</td>\n",
              "      <td>Approved</td>\n",
              "    </tr>\n",
              "    <tr>\n",
              "      <th>1</th>\n",
              "      <td>45</td>\n",
              "      <td>Female</td>\n",
              "      <td>Teacher</td>\n",
              "      <td>Master's</td>\n",
              "      <td>Single</td>\n",
              "      <td>62000</td>\n",
              "      <td>680</td>\n",
              "      <td>Approved</td>\n",
              "    </tr>\n",
              "    <tr>\n",
              "      <th>2</th>\n",
              "      <td>28</td>\n",
              "      <td>Male</td>\n",
              "      <td>Student</td>\n",
              "      <td>High School</td>\n",
              "      <td>Single</td>\n",
              "      <td>25000</td>\n",
              "      <td>590</td>\n",
              "      <td>Denied</td>\n",
              "    </tr>\n",
              "    <tr>\n",
              "      <th>3</th>\n",
              "      <td>51</td>\n",
              "      <td>Female</td>\n",
              "      <td>Manager</td>\n",
              "      <td>Bachelor's</td>\n",
              "      <td>Married</td>\n",
              "      <td>105000</td>\n",
              "      <td>780</td>\n",
              "      <td>Approved</td>\n",
              "    </tr>\n",
              "    <tr>\n",
              "      <th>4</th>\n",
              "      <td>36</td>\n",
              "      <td>Male</td>\n",
              "      <td>Accountant</td>\n",
              "      <td>Bachelor's</td>\n",
              "      <td>Married</td>\n",
              "      <td>75000</td>\n",
              "      <td>710</td>\n",
              "      <td>Approved</td>\n",
              "    </tr>\n",
              "  </tbody>\n",
              "</table>\n",
              "</div>"
            ],
            "text/plain": [
              "   age  gender  occupation education_level marital_status  income  \\\n",
              "0   32    Male    Engineer      Bachelor's        Married   85000   \n",
              "1   45  Female     Teacher        Master's         Single   62000   \n",
              "2   28    Male     Student     High School         Single   25000   \n",
              "3   51  Female     Manager      Bachelor's        Married  105000   \n",
              "4   36    Male  Accountant      Bachelor's        Married   75000   \n",
              "\n",
              "   credit_score loan_status  \n",
              "0           720    Approved  \n",
              "1           680    Approved  \n",
              "2           590      Denied  \n",
              "3           780    Approved  \n",
              "4           710    Approved  "
            ]
          },
          "execution_count": 28,
          "metadata": {},
          "output_type": "execute_result"
        }
      ],
      "source": [
        "# read and print dataset\n",
        "import pandas\n",
        "\n",
        "df = pandas.read_csv('./loan.csv')\n",
        "\n",
        "df.head()"
      ]
    },
    {
      "cell_type": "code",
      "execution_count": 29,
      "metadata": {
        "colab": {
          "base_uri": "https://localhost:8080/",
          "height": 206
        },
        "id": "do7P4DAbWwwl",
        "outputId": "ab43e441-16b8-460e-8ee4-48bc30691c9f"
      },
      "outputs": [
        {
          "data": {
            "text/html": [
              "<div>\n",
              "<style scoped>\n",
              "    .dataframe tbody tr th:only-of-type {\n",
              "        vertical-align: middle;\n",
              "    }\n",
              "\n",
              "    .dataframe tbody tr th {\n",
              "        vertical-align: top;\n",
              "    }\n",
              "\n",
              "    .dataframe thead th {\n",
              "        text-align: right;\n",
              "    }\n",
              "</style>\n",
              "<table border=\"1\" class=\"dataframe\">\n",
              "  <thead>\n",
              "    <tr style=\"text-align: right;\">\n",
              "      <th></th>\n",
              "      <th>age</th>\n",
              "      <th>gender</th>\n",
              "      <th>occupation</th>\n",
              "      <th>education_level</th>\n",
              "      <th>marital_status</th>\n",
              "      <th>income</th>\n",
              "      <th>credit_score</th>\n",
              "      <th>loan_status</th>\n",
              "    </tr>\n",
              "  </thead>\n",
              "  <tbody>\n",
              "    <tr>\n",
              "      <th>0</th>\n",
              "      <td>32</td>\n",
              "      <td>0</td>\n",
              "      <td>Engineer</td>\n",
              "      <td>Bachelor's</td>\n",
              "      <td>0</td>\n",
              "      <td>85000</td>\n",
              "      <td>720</td>\n",
              "      <td>1</td>\n",
              "    </tr>\n",
              "    <tr>\n",
              "      <th>1</th>\n",
              "      <td>45</td>\n",
              "      <td>1</td>\n",
              "      <td>Teacher</td>\n",
              "      <td>Master's</td>\n",
              "      <td>1</td>\n",
              "      <td>62000</td>\n",
              "      <td>680</td>\n",
              "      <td>1</td>\n",
              "    </tr>\n",
              "    <tr>\n",
              "      <th>2</th>\n",
              "      <td>28</td>\n",
              "      <td>0</td>\n",
              "      <td>Student</td>\n",
              "      <td>High School</td>\n",
              "      <td>1</td>\n",
              "      <td>25000</td>\n",
              "      <td>590</td>\n",
              "      <td>0</td>\n",
              "    </tr>\n",
              "    <tr>\n",
              "      <th>3</th>\n",
              "      <td>51</td>\n",
              "      <td>1</td>\n",
              "      <td>Manager</td>\n",
              "      <td>Bachelor's</td>\n",
              "      <td>0</td>\n",
              "      <td>105000</td>\n",
              "      <td>780</td>\n",
              "      <td>1</td>\n",
              "    </tr>\n",
              "    <tr>\n",
              "      <th>4</th>\n",
              "      <td>36</td>\n",
              "      <td>0</td>\n",
              "      <td>Accountant</td>\n",
              "      <td>Bachelor's</td>\n",
              "      <td>0</td>\n",
              "      <td>75000</td>\n",
              "      <td>710</td>\n",
              "      <td>1</td>\n",
              "    </tr>\n",
              "  </tbody>\n",
              "</table>\n",
              "</div>"
            ],
            "text/plain": [
              "   age  gender  occupation education_level  marital_status  income  \\\n",
              "0   32       0    Engineer      Bachelor's               0   85000   \n",
              "1   45       1     Teacher        Master's               1   62000   \n",
              "2   28       0     Student     High School               1   25000   \n",
              "3   51       1     Manager      Bachelor's               0  105000   \n",
              "4   36       0  Accountant      Bachelor's               0   75000   \n",
              "\n",
              "   credit_score  loan_status  \n",
              "0           720            1  \n",
              "1           680            1  \n",
              "2           590            0  \n",
              "3           780            1  \n",
              "4           710            1  "
            ]
          },
          "execution_count": 29,
          "metadata": {},
          "output_type": "execute_result"
        }
      ],
      "source": [
        "# Decision tree, бүх дата тоо байх шаардлагатай\n",
        "# String датануудыг бүгдийг numerical болгон хөрвүүлэх шаардлагатай\n",
        "\n",
        "column1 = {'Male': 0, 'Female': 1}\n",
        "column2 = {'Married': 0, 'Single': 1}\n",
        "column3 = {'Denied': 0, 'Approved': 1}\n",
        "\n",
        "df['gender'] = df['gender'].map(column1)\n",
        "df['marital_status'] = df['marital_status'].map(column2)\n",
        "df['loan_status'] = df['loan_status'].map(column3)\n",
        "\n",
        "df.head()"
      ]
    },
    {
      "cell_type": "code",
      "execution_count": 30,
      "metadata": {
        "id": "hTKJ_izOYawu"
      },
      "outputs": [],
      "source": [
        "# education_level, occupation-ны хувьд гараар ангилж өгөхөд хэтэрхий их unique дататай учир LabelEncoder ашиглана\n",
        "class LabelEncoder:\n",
        "  def __init__(self):\n",
        "    self.classes_ = {} # class to index\n",
        "    self.inverse_classes_ = {} # index to class\n",
        "\n",
        "  def fit(self, data):\n",
        "    # Оролтын өгөгдлийн unique датануудыг sort хийж авна\n",
        "    unique_classes = sorted(set(data))\n",
        "\n",
        "    #\n",
        "    self.classes_ = {cls: idx for idx, cls in enumerate(unique_classes)}\n",
        "\n",
        "    #\n",
        "    self.inverse_classes_ = {idx: cls for cls, idx in self.classes_.items()}\n",
        "\n",
        "    return self\n",
        "\n",
        "  def transform(self, data):\n",
        "    #\n",
        "    return [self.classes_[item] for item in data]\n",
        "\n",
        "  def fit_transform(self, data):\n",
        "    #\n",
        "    self.fit(data)\n",
        "    return self.transform(data)\n",
        "\n",
        "  def inverse_transform(self, data):\n",
        "    #\n",
        "    return [self.inverse_classes_[item] for item in data]\n"
      ]
    },
    {
      "cell_type": "code",
      "execution_count": 31,
      "metadata": {
        "colab": {
          "base_uri": "https://localhost:8080/"
        },
        "id": "aO8QIZHReUYQ",
        "outputId": "1a51ea76-3a21-4b84-ac94-e59b82e54e86"
      },
      "outputs": [
        {
          "data": {
            "text/plain": [
              "education_level\n",
              "Bachelor's     23\n",
              "Master's       15\n",
              "Doctoral       10\n",
              "High School     7\n",
              "Associate's     6\n",
              "Name: count, dtype: int64"
            ]
          },
          "execution_count": 31,
          "metadata": {},
          "output_type": "execute_result"
        }
      ],
      "source": [
        "# occupation болон education_level column дотор хэдэн төрлийн элемент байгааг харья\n",
        "df['education_level'].value_counts()"
      ]
    },
    {
      "cell_type": "code",
      "execution_count": 32,
      "metadata": {
        "colab": {
          "base_uri": "https://localhost:8080/"
        },
        "id": "lyXNNB56hMFe",
        "outputId": "937e15f5-b73e-449b-bbfe-51df9630f100"
      },
      "outputs": [
        {
          "data": {
            "text/plain": [
              "occupation\n",
              "Engineer        5\n",
              "Analyst         2\n",
              "Chef            2\n",
              "Writer          2\n",
              "Banker          2\n",
              "Receptionist    2\n",
              "Teacher         2\n",
              "Professor       2\n",
              "Designer        2\n",
              "Marketing       2\n",
              "Salesman        2\n",
              "Architect       2\n",
              "Consultant      2\n",
              "Doctor          2\n",
              "IT              2\n",
              "Artist          2\n",
              "Lawyer          2\n",
              "Nurse           2\n",
              "Accountant      2\n",
              "Manager         2\n",
              "Photographer    1\n",
              "Server          1\n",
              "Psychologist    1\n",
              "Software        1\n",
              "Musician        1\n",
              "Dentist         1\n",
              "Programmer      1\n",
              "Editor          1\n",
              "Pilot           1\n",
              "Realtor         1\n",
              "Electrician     1\n",
              "HR              1\n",
              "Sales           1\n",
              "Veterinarian    1\n",
              "Researcher      1\n",
              "Pharmacist      1\n",
              "Student         1\n",
              "Stylist         1\n",
              "Name: count, dtype: int64"
            ]
          },
          "execution_count": 32,
          "metadata": {},
          "output_type": "execute_result"
        }
      ],
      "source": [
        "df['occupation'].value_counts()"
      ]
    },
    {
      "cell_type": "code",
      "execution_count": 33,
      "metadata": {
        "colab": {
          "base_uri": "https://localhost:8080/",
          "height": 466
        },
        "id": "b2KAyQlRhbFp",
        "outputId": "78111d9b-369f-4582-ba2d-6ed23779b3d0"
      },
      "outputs": [
        {
          "data": {
            "text/plain": [
              "<Axes: xlabel='age', ylabel='Count'>"
            ]
          },
          "execution_count": 33,
          "metadata": {},
          "output_type": "execute_result"
        },
        {
          "data": {
            "image/png": "[encoded data removed]",
            "text/plain": [
              "<Figure size 640x480 with 1 Axes>"
            ]
          },
          "metadata": {},
          "output_type": "display_data"
        }
      ],
      "source": [
        "# зарим нэг датагаа графикаар харья\n",
        "import matplotlib.pyplot as plt\n",
        "import seaborn as sns\n",
        "\n",
        "sns.histplot(data = df,x = 'age')"
      ]
    },
    {
      "cell_type": "code",
      "execution_count": 34,
      "metadata": {
        "colab": {
          "base_uri": "https://localhost:8080/",
          "height": 423
        },
        "id": "aHCOE_62h3yQ",
        "outputId": "9172076a-7c85-4cc8-9ac5-50829c71b1c0"
      },
      "outputs": [
        {
          "data": {
            "text/plain": [
              "<Axes: ylabel='count'>"
            ]
          },
          "execution_count": 34,
          "metadata": {},
          "output_type": "execute_result"
        },
        {
          "data": {
            "image/png": "[encoded data removed]",
            "text/plain": [
              "<Figure size 640x480 with 1 Axes>"
            ]
          },
          "metadata": {},
          "output_type": "display_data"
        }
      ],
      "source": [
        "df['education_level'].value_counts().plot(kind = 'pie')"
      ]
    },
    {
      "cell_type": "code",
      "execution_count": 35,
      "metadata": {
        "id": "E7RZrZiiimP6"
      },
      "outputs": [],
      "source": [
        "# олонлогийн хазайлтыг олно\n",
        "def sum_of_data(data):\n",
        "  sum = 0\n",
        "  for value in data:\n",
        "    sum += value\n",
        "  return sum\n",
        "\n",
        "def mean_of_data(data):\n",
        "  \"\"\"\n",
        "  Parameters:\n",
        "  data ( list or numpy array) --> байна\n",
        "  \"\"\"\n",
        "  if not data:\n",
        "      raise ValueError(\"Дунджийг олоход багадаа 1-аас дээш тооны олонлог шаардлагатай\")\n",
        "\n",
        "  # Бүх элементийг нийлбэрийг олно\n",
        "  total_sum = sum_of_data(data)\n",
        "  # Тухайн датаны хэмжээ\n",
        "  n = len(data)\n",
        "  # Дунджийг олно\n",
        "  mean_value = total_sum / n\n",
        "\n",
        "  return mean_value\n",
        "\n",
        "def skewness(data):\n",
        "  \"\"\"\n",
        "  Parameters:\n",
        "  data ( list or numpy array) --> байна\n",
        "  \"\"\"\n",
        "\n",
        "  n = len(data)\n",
        "  if n < 3:\n",
        "    raise ValueError(\"Хазайлтыг олоход багадаа 3-аас дээш тооны олонлог шаардлагатай\")\n",
        "\n",
        "  mean = mean_of_data(data)\n",
        "\n",
        "  # Стандарт хазайлт\n",
        "  std_dev = np.std(data, ddof=1)\n",
        "\n",
        "  # Хазайлтыг тодорхойлно\n",
        "  skewness = (n / ((n-1) * (n-2)) * sum_of_data(((data-mean) / std_dev) ** 3))\n",
        "\n",
        "  return skewness"
      ]
    }
  ],
  "metadata": {
    "colab": {
      "provenance": []
    },
    "kernelspec": {
      "display_name": "Python 3",
      "name": "python3"
    },
    "language_info": {
      "codemirror_mode": {
        "name": "ipython",
        "version": 3
      },
      "file_extension": ".py",
      "mimetype": "text/x-python",
      "name": "python",
      "nbconvert_exporter": "python",
      "pygments_lexer": "ipython3",
      "version": "3.10.12"
    }
  },
  "nbformat": 4,
  "nbformat_minor": 0
}
